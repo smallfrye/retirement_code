{
 "cells": [
  {
   "cell_type": "code",
   "execution_count": 1,
   "metadata": {},
   "outputs": [],
   "source": [
    "#import dependencies\n",
    "import pandas as pd\n",
    "import numpy as np\n",
    "import os\n",
    "import glob"
   ]
  },
  {
   "cell_type": "code",
   "execution_count": 2,
   "metadata": {},
   "outputs": [],
   "source": [
    "#create list of .csv files from kaggle\n",
    "kaggle_list = []\n",
    "path = 'DataFiles/*.csv'\n",
    "\n",
    "for fname in glob.glob(path):\n",
    "    kaggle_list.append(fname)"
   ]
  },
  {
   "cell_type": "code",
   "execution_count": 3,
   "metadata": {},
   "outputs": [],
   "source": [
    "#create dictionary of df's with kaggle_list as keys and df's from .csv files as values\n",
    "kaggle_dict = {}\n",
    "\n",
    "for file in kaggle_list:\n",
    "    kaggle_dict[os.path.splitext(os.path.basename(file))[0]] = pd.DataFrame(pd.read_csv(file, sep=\",\", encoding='cp1252'))"
   ]
  },
  {
   "cell_type": "code",
   "execution_count": 5,
   "metadata": {},
   "outputs": [
    {
     "data": {
      "text/plain": [
       "dict_keys(['Cities', 'Conferences', 'ConferenceTourneyGames', 'GameCities', 'NCAATourneyCompactResults', 'NCAATourneyDetailedResults', 'NCAATourneySeedRoundSlots', 'NCAATourneySeeds', 'NCAATourneySlots', 'RegularSeasonCompactResults', 'RegularSeasonDetailedResults', 'Seasons', 'SecondaryTourneyCompactResults', 'SecondaryTourneyTeams', 'TeamCoaches', 'TeamConferences', 'Teams', 'TeamSpellings'])"
      ]
     },
     "execution_count": 5,
     "metadata": {},
     "output_type": "execute_result"
    }
   ],
   "source": [
    "kaggle_dict.keys()"
   ]
  },
  {
   "cell_type": "code",
   "execution_count": 58,
   "metadata": {},
   "outputs": [
    {
     "data": {
      "text/html": [
       "<div>\n",
       "<style scoped>\n",
       "    .dataframe tbody tr th:only-of-type {\n",
       "        vertical-align: middle;\n",
       "    }\n",
       "\n",
       "    .dataframe tbody tr th {\n",
       "        vertical-align: top;\n",
       "    }\n",
       "\n",
       "    .dataframe thead th {\n",
       "        text-align: right;\n",
       "    }\n",
       "</style>\n",
       "<table border=\"1\" class=\"dataframe\">\n",
       "  <thead>\n",
       "    <tr style=\"text-align: right;\">\n",
       "      <th></th>\n",
       "      <th>Season</th>\n",
       "      <th>DayNum</th>\n",
       "      <th>WTeamID</th>\n",
       "      <th>WScore</th>\n",
       "      <th>LTeamID</th>\n",
       "      <th>LScore</th>\n",
       "      <th>WLoc</th>\n",
       "      <th>NumOT</th>\n",
       "      <th>winning_team_name</th>\n",
       "      <th>losing_team_name</th>\n",
       "    </tr>\n",
       "  </thead>\n",
       "  <tbody>\n",
       "    <tr>\n",
       "      <th>1915</th>\n",
       "      <td>2014</td>\n",
       "      <td>154</td>\n",
       "      <td>1163</td>\n",
       "      <td>60</td>\n",
       "      <td>1246</td>\n",
       "      <td>54</td>\n",
       "      <td>N</td>\n",
       "      <td>0</td>\n",
       "      <td>Connecticut</td>\n",
       "      <td>Kentucky</td>\n",
       "    </tr>\n",
       "    <tr>\n",
       "      <th>1982</th>\n",
       "      <td>2015</td>\n",
       "      <td>154</td>\n",
       "      <td>1181</td>\n",
       "      <td>68</td>\n",
       "      <td>1458</td>\n",
       "      <td>63</td>\n",
       "      <td>N</td>\n",
       "      <td>0</td>\n",
       "      <td>Duke</td>\n",
       "      <td>Wisconsin</td>\n",
       "    </tr>\n",
       "    <tr>\n",
       "      <th>2049</th>\n",
       "      <td>2016</td>\n",
       "      <td>154</td>\n",
       "      <td>1437</td>\n",
       "      <td>77</td>\n",
       "      <td>1314</td>\n",
       "      <td>74</td>\n",
       "      <td>N</td>\n",
       "      <td>0</td>\n",
       "      <td>Villanova</td>\n",
       "      <td>North Carolina</td>\n",
       "    </tr>\n",
       "    <tr>\n",
       "      <th>2116</th>\n",
       "      <td>2017</td>\n",
       "      <td>154</td>\n",
       "      <td>1314</td>\n",
       "      <td>71</td>\n",
       "      <td>1211</td>\n",
       "      <td>65</td>\n",
       "      <td>N</td>\n",
       "      <td>0</td>\n",
       "      <td>North Carolina</td>\n",
       "      <td>Gonzaga</td>\n",
       "    </tr>\n",
       "    <tr>\n",
       "      <th>2183</th>\n",
       "      <td>2018</td>\n",
       "      <td>154</td>\n",
       "      <td>1437</td>\n",
       "      <td>79</td>\n",
       "      <td>1276</td>\n",
       "      <td>62</td>\n",
       "      <td>N</td>\n",
       "      <td>0</td>\n",
       "      <td>Villanova</td>\n",
       "      <td>Michigan</td>\n",
       "    </tr>\n",
       "  </tbody>\n",
       "</table>\n",
       "</div>"
      ],
      "text/plain": [
       "      Season  DayNum  WTeamID  WScore  LTeamID  LScore WLoc  NumOT  \\\n",
       "1915    2014     154     1163      60     1246      54    N      0   \n",
       "1982    2015     154     1181      68     1458      63    N      0   \n",
       "2049    2016     154     1437      77     1314      74    N      0   \n",
       "2116    2017     154     1314      71     1211      65    N      0   \n",
       "2183    2018     154     1437      79     1276      62    N      0   \n",
       "\n",
       "     winning_team_name losing_team_name  \n",
       "1915       Connecticut         Kentucky  \n",
       "1982              Duke        Wisconsin  \n",
       "2049         Villanova   North Carolina  \n",
       "2116    North Carolina          Gonzaga  \n",
       "2183         Villanova         Michigan  "
      ]
     },
     "execution_count": 58,
     "metadata": {},
     "output_type": "execute_result"
    }
   ],
   "source": [
    "dummy_tourney_cr = kaggle_dict['NCAATourneyCompactResults'].copy()\n",
    "dummy_tourney_cr = dummy_tourney_cr.loc[dummy_tourney_cr.DayNum == 154] # only winners of tourney\n",
    "\n",
    "dummy_tourney_cr['winning_team_name'] = dummy_tourney_cr['WTeamID'].apply(apply_team_name)\n",
    "dummy_tourney_cr['losing_team_name'] = dummy_tourney_cr['LTeamID'].apply(apply_team_name)\n",
    "\n",
    "dummy_tourney_cr.tail()"
   ]
  },
  {
   "cell_type": "code",
   "execution_count": 61,
   "metadata": {},
   "outputs": [
    {
     "data": {
      "text/html": [
       "<div>\n",
       "<style scoped>\n",
       "    .dataframe tbody tr th:only-of-type {\n",
       "        vertical-align: middle;\n",
       "    }\n",
       "\n",
       "    .dataframe tbody tr th {\n",
       "        vertical-align: top;\n",
       "    }\n",
       "\n",
       "    .dataframe thead th {\n",
       "        text-align: right;\n",
       "    }\n",
       "</style>\n",
       "<table border=\"1\" class=\"dataframe\">\n",
       "  <thead>\n",
       "    <tr style=\"text-align: right;\">\n",
       "      <th></th>\n",
       "      <th>Season</th>\n",
       "      <th>DayNum</th>\n",
       "      <th>WTeamID</th>\n",
       "      <th>WScore</th>\n",
       "      <th>LTeamID</th>\n",
       "      <th>LScore</th>\n",
       "      <th>WLoc</th>\n",
       "      <th>NumOT</th>\n",
       "      <th>winning_team_name</th>\n",
       "      <th>losing_team_name</th>\n",
       "    </tr>\n",
       "  </thead>\n",
       "  <tbody>\n",
       "    <tr>\n",
       "      <th>314</th>\n",
       "      <td>1989</td>\n",
       "      <td>154</td>\n",
       "      <td>1276</td>\n",
       "      <td>80</td>\n",
       "      <td>1371</td>\n",
       "      <td>79</td>\n",
       "      <td>N</td>\n",
       "      <td>1</td>\n",
       "      <td>Michigan</td>\n",
       "      <td>Seton Hall</td>\n",
       "    </tr>\n",
       "    <tr>\n",
       "      <th>818</th>\n",
       "      <td>1997</td>\n",
       "      <td>154</td>\n",
       "      <td>1112</td>\n",
       "      <td>84</td>\n",
       "      <td>1246</td>\n",
       "      <td>79</td>\n",
       "      <td>N</td>\n",
       "      <td>1</td>\n",
       "      <td>Arizona</td>\n",
       "      <td>Kentucky</td>\n",
       "    </tr>\n",
       "    <tr>\n",
       "      <th>1519</th>\n",
       "      <td>2008</td>\n",
       "      <td>154</td>\n",
       "      <td>1242</td>\n",
       "      <td>75</td>\n",
       "      <td>1272</td>\n",
       "      <td>68</td>\n",
       "      <td>N</td>\n",
       "      <td>1</td>\n",
       "      <td>Kansas</td>\n",
       "      <td>Memphis</td>\n",
       "    </tr>\n",
       "  </tbody>\n",
       "</table>\n",
       "</div>"
      ],
      "text/plain": [
       "      Season  DayNum  WTeamID  WScore  LTeamID  LScore WLoc  NumOT  \\\n",
       "314     1989     154     1276      80     1371      79    N      1   \n",
       "818     1997     154     1112      84     1246      79    N      1   \n",
       "1519    2008     154     1242      75     1272      68    N      1   \n",
       "\n",
       "     winning_team_name losing_team_name  \n",
       "314           Michigan       Seton Hall  \n",
       "818            Arizona         Kentucky  \n",
       "1519            Kansas          Memphis  "
      ]
     },
     "execution_count": 61,
     "metadata": {},
     "output_type": "execute_result"
    }
   ],
   "source": [
    "dummy_tourney_cr.loc[dummy_tourney_cr.NumOT == 1]"
   ]
  },
  {
   "cell_type": "code",
   "execution_count": 56,
   "metadata": {},
   "outputs": [],
   "source": [
    "def apply_team_name(team_id):\n",
    "    team_name = kaggle_dict['Teams'].loc[kaggle_dict['Teams'].TeamID == team_id]['TeamName'].item()\n",
    "    return team_name"
   ]
  },
  {
   "cell_type": "code",
   "execution_count": 55,
   "metadata": {},
   "outputs": [
    {
     "data": {
      "text/plain": [
       "'Villanova'"
      ]
     },
     "execution_count": 55,
     "metadata": {},
     "output_type": "execute_result"
    }
   ],
   "source": [
    "kaggle_dict['Teams'].loc[kaggle_dict['Teams'].TeamID == 1437]['TeamName'].item()"
   ]
  },
  {
   "cell_type": "code",
   "execution_count": 6,
   "metadata": {},
   "outputs": [],
   "source": [
    "#setup confinguation variables to enable Splinter to interact with browser\n",
    "executable_path = {'executable_path': 'chromedriver.exe'}\n",
    "browser = Browser('chrome', **executable_path, headless=False)"
   ]
  },
  {
   "cell_type": "code",
   "execution_count": 7,
   "metadata": {},
   "outputs": [],
   "source": [
    "#define starting url and pass into Spliter\n",
    "url = 'https://kenpom.com/'\n",
    "browser.visit(url)"
   ]
  },
  {
   "cell_type": "code",
   "execution_count": 8,
   "metadata": {},
   "outputs": [
    {
     "name": "stderr",
     "output_type": "stream",
     "text": [
      "C:\\Users\\jgross\\Anaconda3\\lib\\site-packages\\ipykernel_launcher.py:20: SettingWithCopyWarning: \n",
      "A value is trying to be set on a copy of a slice from a DataFrame.\n",
      "Try using .loc[row_indexer,col_indexer] = value instead\n",
      "\n",
      "See the caveats in the documentation: http://pandas.pydata.org/pandas-docs/stable/indexing.html#indexing-view-versus-copy\n",
      "C:\\Users\\jgross\\Anaconda3\\lib\\site-packages\\ipykernel_launcher.py:21: SettingWithCopyWarning: \n",
      "A value is trying to be set on a copy of a slice from a DataFrame.\n",
      "Try using .loc[row_indexer,col_indexer] = value instead\n",
      "\n",
      "See the caveats in the documentation: http://pandas.pydata.org/pandas-docs/stable/indexing.html#indexing-view-versus-copy\n"
     ]
    }
   ],
   "source": [
    "#create HTML object\n",
    "html = browser.html\n",
    "\n",
    "#iterate through each year's link and create df from html\n",
    "for year in range(2002,2019,1):\n",
    "    url = 'https://kenpom.com/index.php?y=' + str(year)\n",
    "    stats_list = pd.read_html(url)\n",
    "    stats_df = stats_list[0]\n",
    "    \n",
    "    #clean up/rename columns for df\n",
    "    stats_df.columns = stats_df.columns.droplevel(0)\n",
    "    del stats_df.columns.name\n",
    "    stats_df.columns = ['rk', 'TeamName', 'conf', 'w-l', 'adjEM', 'adjO', \n",
    "                        'adjO_r', 'adjD', 'adjD_r', 'adjT', 'adjT_r','luck', \n",
    "                        'luck_r', 'oppEM', 'oppEM_r', 'oppO', 'oppO_r', 'oppD', 'oppD_r', \n",
    "                        'ncsos_adjEM', 'ncsos_adjEM_r']\n",
    "\n",
    "    #cleaned up data within datafram\n",
    "    stats_df_clean = stats_df.dropna(axis = 0, how = 'any')\n",
    "    stats_df_clean['TeamName'] = stats_df_clean['TeamName'].str.replace('\\d+', '')\n",
    "    stats_df_clean['TeamName'] = stats_df_clean['TeamName'].str.replace(' +$', '')\n",
    "    \n",
    "    #use SequenceMatcher to align teams between kaggle and kenpom data sources\n",
    "#         stats_df_clean['merge_TeamName'] = stats_df_clean['TeamName']\n",
    "#         for team_a in stats_df_clean['TeamName'].values:\n",
    "#             for ixb, team_b in enumerate(kaggle_dict['Teams']['TeamName'].values):\n",
    "#                 if difflib.SequenceMatcher(None,team_a,team_b).ratio() > .95:\n",
    "#                     kaggle_dict['Teams'].ix[ixb,'merge_TeamName'] = team_a\n",
    "    \n",
    "    #joint kaggle and kenpom data sources (Teams df) based on team name\n",
    "    stats_df_joined = pd.merge(stats_df_clean, kaggle_dict['Teams'], on = 'TeamName', how = 'left')\n",
    "\n",
    "    #drop all columns added to kenpom data except for teamID which will be used to make schema work across all the kaggle data\n",
    "    stats_df_final = stats_df_joined.drop(['FirstD1Season', 'LastD1Season'], axis = 1)\n",
    "\n",
    "    #pass final df into sql titled by year\n",
    "    try:\n",
    "        stats_df_final.to_sql('kenpom_' + str(year), engine, if_exists = 'replace', index = False)\n",
    "    except ValueError:\n",
    "        pass\n",
    "    except AttributeError:\n",
    "        pass"
   ]
  },
  {
   "cell_type": "code",
   "execution_count": 9,
   "metadata": {},
   "outputs": [],
   "source": [
    "Base = automap_base()\n",
    "try:\n",
    "    Base.prepare(engine, reflect = True)\n",
    "except AttributeError:\n",
    "    pass"
   ]
  }
 ],
 "metadata": {
  "kernelspec": {
   "display_name": "Python 3",
   "language": "python",
   "name": "python3"
  },
  "language_info": {
   "codemirror_mode": {
    "name": "ipython",
    "version": 3
   },
   "file_extension": ".py",
   "mimetype": "text/x-python",
   "name": "python",
   "nbconvert_exporter": "python",
   "pygments_lexer": "ipython3",
   "version": "3.6.5"
  }
 },
 "nbformat": 4,
 "nbformat_minor": 2
}
